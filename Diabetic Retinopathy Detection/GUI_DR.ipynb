{
 "cells": [
  {
   "cell_type": "code",
   "execution_count": 1,
   "id": "aeccb0ac",
   "metadata": {},
   "outputs": [],
   "source": [
    "import tkinter as tk\n",
    "from tkinter import filedialog\n",
    "from PIL import ImageTk, Image\n",
    "import numpy as np\n",
    "import tensorflow as tf\n",
    "import warnings\n",
    "warnings.simplefilter('ignore')"
   ]
  },
  {
   "cell_type": "code",
   "execution_count": 2,
   "id": "d56fbb15",
   "metadata": {},
   "outputs": [],
   "source": [
    "#Reload the model\n",
    "model = tf.keras.models.load_model('resnet_50.h5')"
   ]
  },
  {
   "cell_type": "code",
   "execution_count": 3,
   "id": "9d82be7d",
   "metadata": {},
   "outputs": [],
   "source": [
    "# Function to process the input image using the deep learning model\n",
    "def process_image(image_path):\n",
    "    image = Image.open(image_path)\n",
    "    image = image.resize((320, 320))  \n",
    "    image = np.array(image) / 255.0  \n",
    "    image = np.expand_dims(image, axis=0)  \n",
    "    return image\n"
   ]
  },
  {
   "cell_type": "code",
   "execution_count": 4,
   "id": "ee564cb1",
   "metadata": {},
   "outputs": [],
   "source": [
    "# Function to handle the \"Browse\" button click event\n",
    "def browse_image():\n",
    "    image_path = filedialog.askopenfilename(initialdir=\"/\", title=\"Select Image\", filetypes=((\"Image Files\", \"*.jpg *.jpeg *.png\"), (\"All Files\", \"*.*\")))\n",
    "    entry.delete(0, tk.END)\n",
    "    entry.insert(0, image_path)"
   ]
  },
  {
   "cell_type": "code",
   "execution_count": 5,
   "id": "77a968f7",
   "metadata": {},
   "outputs": [],
   "source": [
    "# Function to perform prediction using the deep learning model\n",
    "def predict_image():\n",
    "    image_path = entry.get()\n",
    "    processed_image = process_image(image_path)\n",
    "    prediction = model.predict(processed_image)\n",
    "    class_label = np.argmax(prediction)\n",
    "    result_label.configure(text=f\"Predicted Class: {class_label}\")\n",
    "    result_label.config(font=(\"Arial\", 24))\n",
    "    #canvas.delete(\"all\")\n",
    "    #canvas.config(width=400, height=200)\n",
    "    #canvas.create_text(200, 100, text=f\"{class_label}\", font=(\"Arial\", 72), fill=\"blue\")"
   ]
  },
  {
   "cell_type": "code",
   "execution_count": 6,
   "id": "2d006807",
   "metadata": {},
   "outputs": [],
   "source": [
    "# Function to resize and set the background image\n",
    "def resize_background(event):\n",
    "    global background_photo\n",
    "    width = event.width\n",
    "    height = event.height\n",
    "    background_image = original_background_image.resize((width, height), Image.ANTIALIAS)\n",
    "    background_photo = ImageTk.PhotoImage(background_image)\n",
    "    background_label.config(image=background_photo)"
   ]
  },
  {
   "cell_type": "code",
   "execution_count": 7,
   "id": "106b3a4a",
   "metadata": {},
   "outputs": [
    {
     "name": "stdout",
     "output_type": "stream",
     "text": [
      "1/1 [==============================] - 1s 786ms/step\n"
     ]
    }
   ],
   "source": [
    "# Create the main GUI window\n",
    "window = tk.Tk()\n",
    "window.geometry(\"500x500\")\n",
    "window.update_idletasks()  \n",
    "width = window.winfo_width()\n",
    "height = window.winfo_height()\n",
    "x = (window.winfo_screenwidth() // 2) - (width // 2)\n",
    "y = (window.winfo_screenheight() // 2) - (height // 2)\n",
    "window.geometry(f\"{width}x{height}+{x}+{y}\")\n",
    "original_background_image = Image.open(\"image.jpg\")\n",
    "\n",
    "# Bind the resize_background function \n",
    "window.bind(\"<Configure>\", resize_background)\n",
    "background_photo = ImageTk.PhotoImage(original_background_image)\n",
    "background_label = tk.Label(window, image=background_photo)\n",
    "background_label.place(x=0, y=0, relwidth=1, relheight=1)\n",
    "frame = tk.Frame(window)\n",
    "frame.pack(pady=50)\n",
    "entry = tk.Entry(frame, width=50)\n",
    "entry.pack(side=tk.LEFT)\n",
    "browse_button = tk.Button(frame, text=\"Browse\", command=browse_image)\n",
    "browse_button.pack(side=tk.LEFT, padx=20)\n",
    "button = tk.Button(frame, text=\"Predict\", command=predict_image)\n",
    "button.pack(pady=20)\n",
    "result_label = tk.Label(window, text=\"Predicted Class: \")\n",
    "result_label.pack()\n",
    "window.mainloop()"
   ]
  },
  {
   "cell_type": "code",
   "execution_count": null,
   "id": "192ac8d6",
   "metadata": {},
   "outputs": [],
   "source": []
  }
 ],
 "metadata": {
  "kernelspec": {
   "display_name": "Python 3 (ipykernel)",
   "language": "python",
   "name": "python3"
  },
  "language_info": {
   "codemirror_mode": {
    "name": "ipython",
    "version": 3
   },
   "file_extension": ".py",
   "mimetype": "text/x-python",
   "name": "python",
   "nbconvert_exporter": "python",
   "pygments_lexer": "ipython3",
   "version": "3.9.13"
  }
 },
 "nbformat": 4,
 "nbformat_minor": 5
}
